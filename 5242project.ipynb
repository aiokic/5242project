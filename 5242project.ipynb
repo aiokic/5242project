{
  "nbformat": 4,
  "nbformat_minor": 0,
  "metadata": {
    "colab": {
      "name": "5242project.ipynb",
      "provenance": [],
      "collapsed_sections": []
    },
    "kernelspec": {
      "name": "python3",
      "display_name": "Python 3"
    },
    "accelerator": "GPU"
  },
  "cells": [
    {
      "metadata": {
        "id": "sc1OLbOWhPCO"
      },
      "cell_type": "code",
      "source": [
        "#loading packages\n",
        "import matplotlib.pyplot as plt\n",
        "import matplotlib as mpl\n",
        "mpl.rcParams['figure.figsize'] = (10,10)\n",
        "mpl.rcParams['axes.grid'] = False\n",
        "\n",
        "import numpy as np\n",
        "from PIL import Image\n",
        "import time\n",
        "import functools"
      ],
      "execution_count": null,
      "outputs": []
    },
    {
      "metadata": {
        "id": "RYEjlrYk3s6w"
      },
      "cell_type": "code",
      "source": [
        "%tensorflow_version 1.x\n",
        "import tensorflow as tf\n",
        "\n",
        "from tensorflow.python.keras import models \n",
        "from tensorflow.python.keras import losses\n",
        "from tensorflow.python.keras import layers\n",
        "from tensorflow.python.keras import backend as K"
      ],
      "execution_count": null,
      "outputs": []
    },
    {
      "metadata": {
        "id": "sfjsSAtNrqQx"
      },
      "cell_type": "code",
      "source": [
        "tf.enable_eager_execution()\n",
        "print(\"Eager execution: {}\".format(tf.executing_eagerly()))"
      ],
      "execution_count": null,
      "outputs": []
    },
    {
      "cell_type": "markdown",
      "source": [
        "#Please upload 4 imgs under img folder to the sample_data folder in google drive"
      ],
      "metadata": {
        "id": "woU39IEdJTWo"
      }
    },
    {
      "metadata": {
        "id": "IOiGrIV1iERH"
      },
      "cell_type": "code",
      "source": [
        "# Set up global values\n",
        "content_path = '/content/sample_data/Butler_Library_-_1000px_-_AC.jpg'\n",
        "style_path = '/content/sample_data/1280px-A_Sunday_on_La_Grande_Jatte,_Georges_Seurat,_1884.jpg'\n",
        "content_path1 = '/content/sample_data/Almamater.jpg'\n",
        "style_path1 = '/content/sample_data/1024px-Monet_-_Impression,_Sunrise.jpg'"
      ],
      "execution_count": null,
      "outputs": []
    },
    {
      "cell_type": "markdown",
      "source": [
        "##Image preprocess and visualization functions"
      ],
      "metadata": {
        "id": "1neQeQE2D7l5"
      }
    },
    {
      "metadata": {
        "id": "3TLljcwv5qZs"
      },
      "cell_type": "code",
      "source": [
        "import matplotlib.image as mpimg\n",
        "def load_img(path):\n",
        "  img = mpimg.imread(path)\n",
        "  img = tf.image.resize(img,(340,512))\n",
        "  #img = tf.image.resize(img,(width,height))\n",
        "  img = tf.image.convert_image_dtype(img, tf.float32)\n",
        "  #img = img/255.0\n",
        "  img = img[tf.newaxis,:]\n",
        "  img = np.array(img)\n",
        "  return(img)"
      ],
      "execution_count": null,
      "outputs": []
    },
    {
      "metadata": {
        "id": "vupl0CI18aAG"
      },
      "cell_type": "code",
      "source": [
        "def imshow(img_array, title=None):\n",
        "  temp = np.squeeze(img_array, axis=0)\n",
        "  temp = temp.astype('uint8')\n",
        "  plt.imshow(temp)\n",
        "  if title is not None:\n",
        "    plt.title(title)"
      ],
      "execution_count": null,
      "outputs": []
    },
    {
      "cell_type": "code",
      "source": [
        "def generate_noise_image(content_image):\n",
        "    np.random.seed(50)\n",
        "    noise_image = np.random.uniform(-20, 20,content_image.shape).astype('float32')\n",
        "    # White noise image from the content representation. Take a weighted average\n",
        "    # of the values\n",
        "    input_image = noise_image * 0.5 + content_image * 0.5\n",
        "    return input_image"
      ],
      "metadata": {
        "id": "picyjGumn4CR"
      },
      "execution_count": null,
      "outputs": []
    },
    {
      "metadata": {
        "id": "_UWQmeEaiKkP"
      },
      "cell_type": "code",
      "source": [
        "plt.figure(figsize=(10,10))\n",
        "\n",
        "content = load_img(content_path).astype('uint8')\n",
        "style = load_img(style_path).astype('uint8')\n",
        "np.random.seed(10)\n",
        "noise_image = np.random.uniform(-20, 20,content.shape).astype('float32')\n",
        "input_image = generate_noise_image(content)\n",
        "\n",
        "\n",
        "plt.subplot(2, 2, 1)\n",
        "imshow(content, 'Content Image')\n",
        "\n",
        "plt.subplot(2, 2, 2)\n",
        "imshow(style, 'Style Image')\n",
        "\n",
        "plt.subplot(2, 2, 3)\n",
        "imshow(noise_image, 'noise Image')\n",
        "\n",
        "plt.subplot(2, 2, 4)\n",
        "imshow(input_image, 'Input Image')\n",
        "\n",
        "plt.show()"
      ],
      "execution_count": null,
      "outputs": []
    },
    {
      "metadata": {
        "id": "hGwmTwJNmv2a"
      },
      "cell_type": "code",
      "source": [
        "def load_and_process_img(path_to_img):\n",
        "  img = load_img(path_to_img)\n",
        "  img = tf.keras.applications.vgg19.preprocess_input(img)\n",
        "  return img"
      ],
      "execution_count": null,
      "outputs": []
    },
    {
      "metadata": {
        "id": "mjzlKRQRs_y2"
      },
      "cell_type": "code",
      "source": [
        "def deprocess_img(processed_img):\n",
        "  x = processed_img.copy()\n",
        "  if len(x.shape) == 4:\n",
        "    x = np.squeeze(x, 0)\n",
        "  assert len(x.shape) == 3, (\"Input to deprocess image must be an image of \"\n",
        "                             \"dimension [1, height, width, channel] or [height, width, channel]\")\n",
        "  if len(x.shape) != 3:\n",
        "    raise ValueError(\"Invalid input to deprocessing image\")\n",
        "  \n",
        "  x[:, :, 0] += 103.939\n",
        "  x[:, :, 1] += 116.779\n",
        "  x[:, :, 2] += 123.68\n",
        "  x = x[:, :, ::-1]\n",
        "\n",
        "  x = np.clip(x, 0, 255).astype('uint8')\n",
        "  return x"
      ],
      "execution_count": null,
      "outputs": []
    },
    {
      "cell_type": "markdown",
      "source": [
        "##Loading model"
      ],
      "metadata": {
        "id": "ccBECjs0ECvy"
      }
    },
    {
      "metadata": {
        "id": "N4-8eUp_Kc-j"
      },
      "cell_type": "code",
      "source": [
        "content_layers = ['block5_conv2']\n",
        "style_layers = ['block1_conv1','block2_conv1','block3_conv1','block4_conv1','block5_conv1']\n",
        "\n",
        "num_content_layers = len(content_layers)\n",
        "num_style_layers = len(style_layers)"
      ],
      "execution_count": null,
      "outputs": []
    },
    {
      "metadata": {
        "id": "nfec6MuMAbPx"
      },
      "cell_type": "code",
      "source": [
        "def get_model():\n",
        "  vgg = tf.keras.applications.vgg19.VGG19(include_top=False, weights='imagenet')\n",
        "  vgg.trainable = False\n",
        "  style_outputs = [vgg.get_layer(name).output for name in style_layers]\n",
        "  content_outputs = [vgg.get_layer(name).output for name in content_layers]\n",
        "  model_outputs = style_outputs + content_outputs \n",
        "  return models.Model(vgg.input, model_outputs)"
      ],
      "execution_count": null,
      "outputs": []
    },
    {
      "cell_type": "markdown",
      "source": [
        "##Loss functions"
      ],
      "metadata": {
        "id": "j1S_BZDVEGBU"
      }
    },
    {
      "metadata": {
        "id": "d2mf7JwRMkCd"
      },
      "cell_type": "code",
      "source": [
        "def get_content_loss(base_content, target):\n",
        "  return tf.reduce_mean(tf.square(base_content - target))"
      ],
      "execution_count": null,
      "outputs": []
    },
    {
      "metadata": {
        "id": "N7MOqwKLLke8"
      },
      "cell_type": "code",
      "source": [
        "def gram_matrix(input_tensor):\n",
        "  channels = int(input_tensor.shape[-1])\n",
        "  a = tf.reshape(input_tensor, [-1, channels])\n",
        "  n = tf.shape(a)[0]\n",
        "  gram = tf.matmul(a, a, transpose_a=True)\n",
        "  return gram / tf.cast(n, tf.float32)\n",
        "\n",
        "def get_style_loss(base_style, gram_target):\n",
        "  height, width, channels = base_style.get_shape().as_list()\n",
        "  gram_style = gram_matrix(base_style)\n",
        "  \n",
        "  return tf.reduce_mean(tf.square(gram_style - gram_target))"
      ],
      "execution_count": null,
      "outputs": []
    },
    {
      "metadata": {
        "id": "O-lj5LxgtmnI"
      },
      "cell_type": "code",
      "source": [
        "def get_feature_representations(model, content_path, style_path):\n",
        "  content_image = load_and_process_img(content_path)\n",
        "  style_image = load_and_process_img(style_path)\n",
        "  input_image = generate_noise_image(content_image)\n",
        "  \n",
        "  style_outputs = model(style_image)\n",
        "  content_outputs = model(content_image)\n",
        "  \n",
        "  style_features = [style_layer[0] for style_layer in style_outputs[:num_style_layers]]\n",
        "  content_features = [content_layer[0] for content_layer in content_outputs[num_style_layers:]]\n",
        "  return style_features, content_features"
      ],
      "execution_count": null,
      "outputs": []
    },
    {
      "metadata": {
        "id": "oVDhSo8iJunf"
      },
      "cell_type": "code",
      "source": [
        "def compute_loss(model, loss_weights, init_image, gram_style_features, content_features):\n",
        "  \n",
        "  style_weight, content_weight = loss_weights\n",
        "\n",
        "  model_outputs = model(init_image)\n",
        "  \n",
        "  style_output_features = model_outputs[:num_style_layers]\n",
        "  content_output_features = model_outputs[num_style_layers:]\n",
        "  \n",
        "  style_score = 0\n",
        "  content_score = 0\n",
        "\n",
        "  weight_per_style_layer = 1.0 / float(num_style_layers)\n",
        "  for target_style, comb_style in zip(gram_style_features, style_output_features):\n",
        "    style_score += weight_per_style_layer * get_style_loss(comb_style[0], target_style)\n",
        "    \n",
        "  weight_per_content_layer = 1.0 / float(num_content_layers)\n",
        "  for target_content, comb_content in zip(content_features, content_output_features):\n",
        "    content_score += weight_per_content_layer* get_content_loss(comb_content[0], target_content)\n",
        "  \n",
        "  style_score *= style_weight\n",
        "  content_score *= content_weight\n",
        "\n",
        "  loss = style_score + content_score \n",
        "  return loss, style_score, content_score"
      ],
      "execution_count": null,
      "outputs": []
    },
    {
      "cell_type": "markdown",
      "source": [
        "##Optimization "
      ],
      "metadata": {
        "id": "c0WnmQwgEJuG"
      }
    },
    {
      "metadata": {
        "id": "fwzYeOqOUH9_"
      },
      "cell_type": "code",
      "source": [
        "def compute_grads(cfg):\n",
        "  with tf.GradientTape() as tape: \n",
        "    all_loss = compute_loss(**cfg)\n",
        "  total_loss = all_loss[0]\n",
        "  return tape.gradient(total_loss, cfg['init_image']), all_loss"
      ],
      "execution_count": null,
      "outputs": []
    },
    {
      "metadata": {
        "id": "pj_enNo6tACQ"
      },
      "cell_type": "code",
      "source": [
        "import IPython.display\n",
        "\n",
        "def run_style_transfer(content_path,style_path,num_iterations=1000,content_weight=1e3,style_weight=1e-3): \n",
        "  model = get_model()\n",
        "  for layer in model.layers:\n",
        "    layer.trainable = False\n",
        "  \n",
        "  style_features, content_features = get_feature_representations(model, content_path, style_path)\n",
        "  gram_style_features = [gram_matrix(style_feature) for style_feature in style_features]\n",
        "  \n",
        "  content = load_and_process_img(content_path)\n",
        "  init_image = generate_noise_image(content)\n",
        "  init_image = tf.Variable(init_image, dtype=tf.float32)\n",
        "\n",
        "  opt = tf.train.AdamOptimizer(learning_rate=5, beta1=0.99, epsilon=1e-1)\n",
        "\n",
        "  iter_count = 1\n",
        "  \n",
        "  best_loss, best_img = float('inf'), None\n",
        "  \n",
        "  loss_weights = (style_weight, content_weight)\n",
        "  cfg = {\n",
        "      'model': model,\n",
        "      'loss_weights': loss_weights,\n",
        "      'init_image': init_image,\n",
        "      'gram_style_features': gram_style_features,\n",
        "      'content_features': content_features\n",
        "  }\n",
        "    \n",
        "  num_rows = 2\n",
        "  num_cols = 5\n",
        "  display_interval = num_iterations/(num_rows*num_cols)\n",
        "  start_time = time.time()\n",
        "  global_start = time.time()\n",
        "  \n",
        "  norm_means = np.array([103.939, 116.779, 123.68])\n",
        "  min_vals = -norm_means\n",
        "  max_vals = 255 - norm_means   \n",
        "  \n",
        "  imgs = []\n",
        "  loss_list = []\n",
        "  style_score_list = []\n",
        "  content_score_list = []\n",
        "  for i in range(num_iterations):\n",
        "    grads, all_loss = compute_grads(cfg)\n",
        "    loss, style_score, content_score = all_loss\n",
        "    loss_list.append(loss.numpy())\n",
        "    style_score_list.append(style_score.numpy())\n",
        "    content_score_list.append(content_score.numpy())\n",
        "\n",
        "    opt.apply_gradients([(grads, init_image)])\n",
        "    clipped = tf.clip_by_value(init_image, min_vals, max_vals)\n",
        "    init_image.assign(clipped)\n",
        "    end_time = time.time() \n",
        "    \n",
        "    if loss < best_loss:\n",
        "      best_loss = loss\n",
        "      best_img = deprocess_img(init_image.numpy())\n",
        "\n",
        "    if i % display_interval== 0:\n",
        "      start_time = time.time()\n",
        "      \n",
        "      plot_img = init_image.numpy()\n",
        "      plot_img = deprocess_img(plot_img)\n",
        "      imgs.append(plot_img)\n",
        "      IPython.display.clear_output(wait=True)\n",
        "      IPython.display.display_png(Image.fromarray(plot_img))\n",
        "      print('Iteration: {}'.format(i))        \n",
        "      print('Total loss: {:.4e}, ' \n",
        "            'style loss: {:.4e}, '\n",
        "            'content loss: {:.4e}, '\n",
        "            'time: {:.4f}s'.format(loss, style_score, content_score, time.time() - start_time))\n",
        "  print('Total time: {:.4f}s'.format(time.time() - global_start))\n",
        "  IPython.display.clear_output(wait=True)\n",
        "  plt.figure(figsize=(14,4))\n",
        "  for i,img in enumerate(imgs):\n",
        "      plt.subplot(num_rows,num_cols,i+1)\n",
        "      plt.imshow(img)\n",
        "      plt.xticks([])\n",
        "      plt.yticks([])\n",
        "      \n",
        "  return best_img, best_loss,loss_list, style_score_list, content_score_list"
      ],
      "execution_count": null,
      "outputs": []
    },
    {
      "metadata": {
        "id": "vSVMx4burydi"
      },
      "cell_type": "code",
      "source": [
        "best, best_loss,loss_list, style_score_list,content_score_list = run_style_transfer(content_path,style_path, num_iterations=1000)"
      ],
      "execution_count": null,
      "outputs": []
    },
    {
      "metadata": {
        "id": "dzJTObpsO3TZ"
      },
      "cell_type": "code",
      "source": [
        "Image.fromarray(best)"
      ],
      "execution_count": null,
      "outputs": []
    },
    {
      "metadata": {
        "id": "lqTQN1PjulV9"
      },
      "cell_type": "code",
      "source": [
        "def show_results(best_img, content_path, style_path, show_large_final=True):\n",
        "  plt.figure(figsize=(10, 5))\n",
        "  content = load_img(content_path) \n",
        "  style = load_img(style_path)\n",
        "\n",
        "  plt.subplot(1, 2, 1)\n",
        "  imshow(content, 'Content Image')\n",
        "\n",
        "  plt.subplot(1, 2, 2)\n",
        "  imshow(style, 'Style Image')\n",
        "\n",
        "  if show_large_final: \n",
        "    plt.figure(figsize=(10, 10))\n",
        "\n",
        "    plt.imshow(best_img)\n",
        "    plt.title('Output Image')\n",
        "    plt.show()"
      ],
      "execution_count": null,
      "outputs": []
    },
    {
      "metadata": {
        "id": "i6d6O50Yvs6a"
      },
      "cell_type": "code",
      "source": [
        "show_results(best, content_path, style_path)"
      ],
      "execution_count": null,
      "outputs": []
    },
    {
      "cell_type": "markdown",
      "source": [
        "##Trainning on different conbination"
      ],
      "metadata": {
        "id": "BEEW2Fvk4nQc"
      }
    },
    {
      "cell_type": "code",
      "source": [
        "num_iterations= 1000\n",
        "iteration = range(num_iterations)\n",
        "from matplotlib.pyplot import figure\n",
        "\n",
        "fig = plt.figure(figsize=(9, 6))\n",
        "\n",
        "plt.subplots_adjust(wspace= 0.25, hspace= 0.5)\n",
        "\n",
        "sub1 = fig.add_subplot(2,2,1) # two rows, two columns, fist cell\n",
        "plt.plot(iteration, content_score_list, color='green')\n",
        "plt.xlabel('Number of Iterations')\n",
        "plt.ylabel('content_score_list')\n",
        "plt.title('Weighted Content Loss Plot')\n",
        "\n",
        "# Create second axes, the top-left plot with orange plot\n",
        "sub2 = fig.add_subplot(2,2,2) # two rows, two columns, second cell\n",
        "plt.plot(iteration, style_score_list)\n",
        "plt.xlabel('Number of Iterations')\n",
        "plt.ylabel('style_score_list')\n",
        "plt.title('Weighted Style Loss Plot')\n",
        "\n",
        "# Create third axes, a combination of third and fourth cell\n",
        "sub3 = fig.add_subplot(2,2,(3,4)) # two rows, two colums, combined third and fourth cell\n",
        "plt.plot(iteration, loss_list, color='red')\n",
        "plt.xlabel('Number of Iterations')\n",
        "plt.ylabel('Total Loss')\n",
        "plt.title('Total Loss Plot');"
      ],
      "metadata": {
        "id": "SP6428wg4G6D"
      },
      "execution_count": null,
      "outputs": []
    }
  ]
}